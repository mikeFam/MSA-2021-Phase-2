{
 "cells": [
  {
   "cell_type": "code",
   "execution_count": 1,
   "id": "ea512cb6",
   "metadata": {
    "_cell_guid": "b1076dfc-b9ad-4769-8c92-a6c4dae69d19",
    "_uuid": "8f2839f25d086af736a60e9eeb907d3b93b6e0e5",
    "execution": {
     "iopub.execute_input": "2021-09-23T07:14:32.878649Z",
     "iopub.status.busy": "2021-09-23T07:14:32.877389Z",
     "iopub.status.idle": "2021-09-23T07:14:32.892225Z",
     "shell.execute_reply": "2021-09-23T07:14:32.891276Z",
     "shell.execute_reply.started": "2021-09-23T06:38:47.444726Z"
    },
    "papermill": {
     "duration": 0.042462,
     "end_time": "2021-09-23T07:14:32.892460",
     "exception": false,
     "start_time": "2021-09-23T07:14:32.849998",
     "status": "completed"
    },
    "tags": []
   },
   "outputs": [
    {
     "name": "stdout",
     "output_type": "stream",
     "text": [
      "/kaggle/input/commonlitreadabilityprize/sample_submission.csv\n",
      "/kaggle/input/commonlitreadabilityprize/train.csv\n",
      "/kaggle/input/commonlitreadabilityprize/test.csv\n"
     ]
    }
   ],
   "source": [
    "# This Python 3 environment comes with many helpful analytics libraries installed\n",
    "# It is defined by the kaggle/python Docker image: https://github.com/kaggle/docker-python\n",
    "# For example, here's several helpful packages to load\n",
    "\n",
    "import numpy as np # linear algebra\n",
    "import pandas as pd # data processing, CSV file I/O (e.g. pd.read_csv)\n",
    "\n",
    "# Input data files are available in the read-only \"../input/\" directory\n",
    "# For example, running this (by clicking run or pressing Shift+Enter) will list all files under the input directory\n",
    "\n",
    "import os\n",
    "for dirname, _, filenames in os.walk('/kaggle/input'):\n",
    "    for filename in filenames:\n",
    "        print(os.path.join(dirname, filename))\n",
    "\n",
    "# You can write up to 20GB to the current directory (/kaggle/working/) that gets preserved as output when you create a version using \"Save & Run All\" \n",
    "# You can also write temporary files to /kaggle/temp/, but they won't be saved outside of the current session"
   ]
  },
  {
   "cell_type": "code",
   "execution_count": 2,
   "id": "c5710cdf",
   "metadata": {
    "execution": {
     "iopub.execute_input": "2021-09-23T07:14:32.945366Z",
     "iopub.status.busy": "2021-09-23T07:14:32.944601Z",
     "iopub.status.idle": "2021-09-23T07:14:33.176155Z",
     "shell.execute_reply": "2021-09-23T07:14:33.176749Z",
     "shell.execute_reply.started": "2021-09-23T06:38:47.473442Z"
    },
    "papermill": {
     "duration": 0.260226,
     "end_time": "2021-09-23T07:14:33.176963",
     "exception": false,
     "start_time": "2021-09-23T07:14:32.916737",
     "status": "completed"
    },
    "tags": []
   },
   "outputs": [
    {
     "data": {
      "text/html": [
       "<div>\n",
       "<style scoped>\n",
       "    .dataframe tbody tr th:only-of-type {\n",
       "        vertical-align: middle;\n",
       "    }\n",
       "\n",
       "    .dataframe tbody tr th {\n",
       "        vertical-align: top;\n",
       "    }\n",
       "\n",
       "    .dataframe thead th {\n",
       "        text-align: right;\n",
       "    }\n",
       "</style>\n",
       "<table border=\"1\" class=\"dataframe\">\n",
       "  <thead>\n",
       "    <tr style=\"text-align: right;\">\n",
       "      <th></th>\n",
       "      <th>id</th>\n",
       "      <th>excerpt</th>\n",
       "      <th>target</th>\n",
       "    </tr>\n",
       "  </thead>\n",
       "  <tbody>\n",
       "    <tr>\n",
       "      <th>0</th>\n",
       "      <td>c12129c31</td>\n",
       "      <td>When the young people returned to the ballroom...</td>\n",
       "      <td>-0.340259</td>\n",
       "    </tr>\n",
       "    <tr>\n",
       "      <th>1</th>\n",
       "      <td>85aa80a4c</td>\n",
       "      <td>All through dinner time, Mrs. Fayre was somewh...</td>\n",
       "      <td>-0.315372</td>\n",
       "    </tr>\n",
       "    <tr>\n",
       "      <th>2</th>\n",
       "      <td>b69ac6792</td>\n",
       "      <td>As Roger had predicted, the snow departed as q...</td>\n",
       "      <td>-0.580118</td>\n",
       "    </tr>\n",
       "  </tbody>\n",
       "</table>\n",
       "</div>"
      ],
      "text/plain": [
       "          id                                            excerpt    target\n",
       "0  c12129c31  When the young people returned to the ballroom... -0.340259\n",
       "1  85aa80a4c  All through dinner time, Mrs. Fayre was somewh... -0.315372\n",
       "2  b69ac6792  As Roger had predicted, the snow departed as q... -0.580118"
      ]
     },
     "execution_count": 2,
     "metadata": {},
     "output_type": "execute_result"
    }
   ],
   "source": [
    "# load the training data\n",
    "train_data = pd.read_csv('/kaggle/input/commonlitreadabilityprize/train.csv')\n",
    "train_data.drop(['url_legal', 'license', 'standard_error'], axis=1, inplace=True)\n",
    "train_data.head(3)"
   ]
  },
  {
   "cell_type": "code",
   "execution_count": 3,
   "id": "15369f66",
   "metadata": {
    "execution": {
     "iopub.execute_input": "2021-09-23T07:14:33.230775Z",
     "iopub.status.busy": "2021-09-23T07:14:33.229705Z",
     "iopub.status.idle": "2021-09-23T07:14:33.250982Z",
     "shell.execute_reply": "2021-09-23T07:14:33.250093Z",
     "shell.execute_reply.started": "2021-09-23T06:38:47.707981Z"
    },
    "papermill": {
     "duration": 0.048379,
     "end_time": "2021-09-23T07:14:33.251173",
     "exception": false,
     "start_time": "2021-09-23T07:14:33.202794",
     "status": "completed"
    },
    "tags": []
   },
   "outputs": [
    {
     "name": "stdout",
     "output_type": "stream",
     "text": [
      "(7, 2)\n"
     ]
    },
    {
     "data": {
      "text/html": [
       "<div>\n",
       "<style scoped>\n",
       "    .dataframe tbody tr th:only-of-type {\n",
       "        vertical-align: middle;\n",
       "    }\n",
       "\n",
       "    .dataframe tbody tr th {\n",
       "        vertical-align: top;\n",
       "    }\n",
       "\n",
       "    .dataframe thead th {\n",
       "        text-align: right;\n",
       "    }\n",
       "</style>\n",
       "<table border=\"1\" class=\"dataframe\">\n",
       "  <thead>\n",
       "    <tr style=\"text-align: right;\">\n",
       "      <th></th>\n",
       "      <th>id</th>\n",
       "      <th>excerpt</th>\n",
       "    </tr>\n",
       "  </thead>\n",
       "  <tbody>\n",
       "    <tr>\n",
       "      <th>0</th>\n",
       "      <td>c0f722661</td>\n",
       "      <td>My hope lay in Jack's promise that he would ke...</td>\n",
       "    </tr>\n",
       "  </tbody>\n",
       "</table>\n",
       "</div>"
      ],
      "text/plain": [
       "          id                                            excerpt\n",
       "0  c0f722661  My hope lay in Jack's promise that he would ke..."
      ]
     },
     "execution_count": 3,
     "metadata": {},
     "output_type": "execute_result"
    }
   ],
   "source": [
    "# load the testing data\n",
    "test_data = pd.read_csv('/kaggle/input/commonlitreadabilityprize/test.csv')\n",
    "test_data.drop(['url_legal', 'license'], axis=1, inplace=True)\n",
    "print(test_data.shape)\n",
    "test_data.head(1)"
   ]
  },
  {
   "cell_type": "code",
   "execution_count": 4,
   "id": "0c359efe",
   "metadata": {
    "execution": {
     "iopub.execute_input": "2021-09-23T07:14:33.305468Z",
     "iopub.status.busy": "2021-09-23T07:14:33.304726Z",
     "iopub.status.idle": "2021-09-23T07:14:33.308606Z",
     "shell.execute_reply": "2021-09-23T07:14:33.307969Z",
     "shell.execute_reply.started": "2021-09-23T06:38:47.737283Z"
    },
    "papermill": {
     "duration": 0.032994,
     "end_time": "2021-09-23T07:14:33.308745",
     "exception": false,
     "start_time": "2021-09-23T07:14:33.275751",
     "status": "completed"
    },
    "tags": []
   },
   "outputs": [],
   "source": [
    "# define X, y and test\n",
    "X_train = train_data.excerpt\n",
    "Y_train = train_data.target\n",
    "final_test = test_data.excerpt"
   ]
  },
  {
   "cell_type": "code",
   "execution_count": 5,
   "id": "2f0d703b",
   "metadata": {
    "execution": {
     "iopub.execute_input": "2021-09-23T07:14:33.364745Z",
     "iopub.status.busy": "2021-09-23T07:14:33.363849Z",
     "iopub.status.idle": "2021-09-23T07:14:34.382222Z",
     "shell.execute_reply": "2021-09-23T07:14:34.381084Z",
     "shell.execute_reply.started": "2021-09-23T06:38:47.745401Z"
    },
    "papermill": {
     "duration": 1.048654,
     "end_time": "2021-09-23T07:14:34.382380",
     "exception": false,
     "start_time": "2021-09-23T07:14:33.333726",
     "status": "completed"
    },
    "tags": []
   },
   "outputs": [],
   "source": [
    "# split the dataset into training set and test set\n",
    "from sklearn.model_selection import train_test_split\n",
    "x_train, x_val, y_train, y_val = train_test_split(X_train, Y_train, test_size=0.20)\n",
    "x_train = np.array(x_train)\n",
    "x_val = np.array(x_val)\n",
    "y_train = np.array(y_train) #y_train\n",
    "y_val = np.array(y_val) #y_test\n",
    "final_test = np.array(final_test)\n",
    "X_full = np.array(X_train)\n",
    "Y_full = np.array(Y_train) #y_full"
   ]
  },
  {
   "cell_type": "code",
   "execution_count": 6,
   "id": "c262dfeb",
   "metadata": {
    "execution": {
     "iopub.execute_input": "2021-09-23T07:14:34.438139Z",
     "iopub.status.busy": "2021-09-23T07:14:34.437452Z",
     "iopub.status.idle": "2021-09-23T07:14:35.923637Z",
     "shell.execute_reply": "2021-09-23T07:14:35.924169Z",
     "shell.execute_reply.started": "2021-09-23T06:38:48.751033Z"
    },
    "papermill": {
     "duration": 1.517598,
     "end_time": "2021-09-23T07:14:35.924366",
     "exception": false,
     "start_time": "2021-09-23T07:14:34.406768",
     "status": "completed"
    },
    "tags": []
   },
   "outputs": [
    {
     "name": "stdout",
     "output_type": "stream",
     "text": [
      "[0.         0.73835288 0.         0.         0.67441458 0.\n",
      " 0.         0.         0.         0.        ]\n",
      "(2267, 10) (2267,)\n",
      "(567, 10) (567,)\n",
      "(7, 10)\n"
     ]
    }
   ],
   "source": [
    "# vectorize the training and testing excerpt (text) columns \n",
    "from sklearn.feature_extraction.text import TfidfVectorizer\n",
    "# intializes the vectorizer to remove english stop words, maximum 10000 features and remove accents and perform other character normalization\n",
    "vectorizer = TfidfVectorizer(lowercase=True, analyzer='word', stop_words='english', max_features=10, strip_accents='unicode')\n",
    "x_train_vector = vectorizer.fit_transform (x_train).toarray() #train_vector\n",
    "x_val_vector = vectorizer.fit_transform (x_val).toarray() #test_vectors\n",
    "x_full = vectorizer.fit_transform (X_full).toarray() #vectors_full\n",
    "final_test_vector = vectorizer.transform (final_test).toarray() #real_test_vectors\n",
    "print(x_train_vector[0])\n",
    "print(x_train_vector.shape, y_train.shape)\n",
    "print(x_val_vector.shape, y_val.shape)\n",
    "print(final_test_vector.shape)"
   ]
  },
  {
   "cell_type": "code",
   "execution_count": 7,
   "id": "a04db304",
   "metadata": {
    "execution": {
     "iopub.execute_input": "2021-09-23T07:14:36.001985Z",
     "iopub.status.busy": "2021-09-23T07:14:36.001298Z",
     "iopub.status.idle": "2021-09-23T07:14:36.007392Z",
     "shell.execute_reply": "2021-09-23T07:14:36.006872Z",
     "shell.execute_reply.started": "2021-09-23T06:38:50.283465Z"
    },
    "papermill": {
     "duration": 0.058403,
     "end_time": "2021-09-23T07:14:36.007554",
     "exception": false,
     "start_time": "2021-09-23T07:14:35.949151",
     "status": "completed"
    },
    "tags": []
   },
   "outputs": [
    {
     "data": {
      "text/html": [
       "<div>\n",
       "<style scoped>\n",
       "    .dataframe tbody tr th:only-of-type {\n",
       "        vertical-align: middle;\n",
       "    }\n",
       "\n",
       "    .dataframe tbody tr th {\n",
       "        vertical-align: top;\n",
       "    }\n",
       "\n",
       "    .dataframe thead th {\n",
       "        text-align: right;\n",
       "    }\n",
       "</style>\n",
       "<table border=\"1\" class=\"dataframe\">\n",
       "  <thead>\n",
       "    <tr style=\"text-align: right;\">\n",
       "      <th></th>\n",
       "      <th>called</th>\n",
       "      <th>day</th>\n",
       "      <th>great</th>\n",
       "      <th>like</th>\n",
       "      <th>little</th>\n",
       "      <th>old</th>\n",
       "      <th>people</th>\n",
       "      <th>said</th>\n",
       "      <th>time</th>\n",
       "      <th>water</th>\n",
       "    </tr>\n",
       "  </thead>\n",
       "  <tbody>\n",
       "    <tr>\n",
       "      <th>0</th>\n",
       "      <td>0.000000</td>\n",
       "      <td>0.738353</td>\n",
       "      <td>0.000000</td>\n",
       "      <td>0.0</td>\n",
       "      <td>0.674415</td>\n",
       "      <td>0.0</td>\n",
       "      <td>0.000000</td>\n",
       "      <td>0.000000</td>\n",
       "      <td>0.00000</td>\n",
       "      <td>0.0</td>\n",
       "    </tr>\n",
       "    <tr>\n",
       "      <th>1</th>\n",
       "      <td>0.000000</td>\n",
       "      <td>0.000000</td>\n",
       "      <td>0.000000</td>\n",
       "      <td>1.0</td>\n",
       "      <td>0.000000</td>\n",
       "      <td>0.0</td>\n",
       "      <td>0.000000</td>\n",
       "      <td>0.000000</td>\n",
       "      <td>0.00000</td>\n",
       "      <td>0.0</td>\n",
       "    </tr>\n",
       "    <tr>\n",
       "      <th>2</th>\n",
       "      <td>0.000000</td>\n",
       "      <td>0.000000</td>\n",
       "      <td>1.000000</td>\n",
       "      <td>0.0</td>\n",
       "      <td>0.000000</td>\n",
       "      <td>0.0</td>\n",
       "      <td>0.000000</td>\n",
       "      <td>0.000000</td>\n",
       "      <td>0.00000</td>\n",
       "      <td>0.0</td>\n",
       "    </tr>\n",
       "    <tr>\n",
       "      <th>3</th>\n",
       "      <td>0.000000</td>\n",
       "      <td>0.000000</td>\n",
       "      <td>0.000000</td>\n",
       "      <td>0.0</td>\n",
       "      <td>0.000000</td>\n",
       "      <td>0.0</td>\n",
       "      <td>0.000000</td>\n",
       "      <td>0.000000</td>\n",
       "      <td>0.00000</td>\n",
       "      <td>0.0</td>\n",
       "    </tr>\n",
       "    <tr>\n",
       "      <th>4</th>\n",
       "      <td>0.000000</td>\n",
       "      <td>0.000000</td>\n",
       "      <td>0.000000</td>\n",
       "      <td>0.0</td>\n",
       "      <td>0.000000</td>\n",
       "      <td>0.0</td>\n",
       "      <td>1.000000</td>\n",
       "      <td>0.000000</td>\n",
       "      <td>0.00000</td>\n",
       "      <td>0.0</td>\n",
       "    </tr>\n",
       "    <tr>\n",
       "      <th>...</th>\n",
       "      <td>...</td>\n",
       "      <td>...</td>\n",
       "      <td>...</td>\n",
       "      <td>...</td>\n",
       "      <td>...</td>\n",
       "      <td>...</td>\n",
       "      <td>...</td>\n",
       "      <td>...</td>\n",
       "      <td>...</td>\n",
       "      <td>...</td>\n",
       "    </tr>\n",
       "    <tr>\n",
       "      <th>2262</th>\n",
       "      <td>0.000000</td>\n",
       "      <td>0.000000</td>\n",
       "      <td>0.000000</td>\n",
       "      <td>0.0</td>\n",
       "      <td>0.000000</td>\n",
       "      <td>0.0</td>\n",
       "      <td>0.000000</td>\n",
       "      <td>0.000000</td>\n",
       "      <td>0.00000</td>\n",
       "      <td>0.0</td>\n",
       "    </tr>\n",
       "    <tr>\n",
       "      <th>2263</th>\n",
       "      <td>0.000000</td>\n",
       "      <td>0.000000</td>\n",
       "      <td>0.525683</td>\n",
       "      <td>0.0</td>\n",
       "      <td>0.473178</td>\n",
       "      <td>0.0</td>\n",
       "      <td>0.540899</td>\n",
       "      <td>0.000000</td>\n",
       "      <td>0.45518</td>\n",
       "      <td>0.0</td>\n",
       "    </tr>\n",
       "    <tr>\n",
       "      <th>2264</th>\n",
       "      <td>0.210548</td>\n",
       "      <td>0.000000</td>\n",
       "      <td>0.212106</td>\n",
       "      <td>0.0</td>\n",
       "      <td>0.000000</td>\n",
       "      <td>0.0</td>\n",
       "      <td>0.872981</td>\n",
       "      <td>0.385468</td>\n",
       "      <td>0.00000</td>\n",
       "      <td>0.0</td>\n",
       "    </tr>\n",
       "    <tr>\n",
       "      <th>2265</th>\n",
       "      <td>0.000000</td>\n",
       "      <td>0.441988</td>\n",
       "      <td>0.897021</td>\n",
       "      <td>0.0</td>\n",
       "      <td>0.000000</td>\n",
       "      <td>0.0</td>\n",
       "      <td>0.000000</td>\n",
       "      <td>0.000000</td>\n",
       "      <td>0.00000</td>\n",
       "      <td>0.0</td>\n",
       "    </tr>\n",
       "    <tr>\n",
       "      <th>2266</th>\n",
       "      <td>0.596783</td>\n",
       "      <td>0.592456</td>\n",
       "      <td>0.000000</td>\n",
       "      <td>0.0</td>\n",
       "      <td>0.541152</td>\n",
       "      <td>0.0</td>\n",
       "      <td>0.000000</td>\n",
       "      <td>0.000000</td>\n",
       "      <td>0.00000</td>\n",
       "      <td>0.0</td>\n",
       "    </tr>\n",
       "  </tbody>\n",
       "</table>\n",
       "<p>2267 rows × 10 columns</p>\n",
       "</div>"
      ],
      "text/plain": [
       "        called       day     great  like    little  old    people      said  \\\n",
       "0     0.000000  0.738353  0.000000   0.0  0.674415  0.0  0.000000  0.000000   \n",
       "1     0.000000  0.000000  0.000000   1.0  0.000000  0.0  0.000000  0.000000   \n",
       "2     0.000000  0.000000  1.000000   0.0  0.000000  0.0  0.000000  0.000000   \n",
       "3     0.000000  0.000000  0.000000   0.0  0.000000  0.0  0.000000  0.000000   \n",
       "4     0.000000  0.000000  0.000000   0.0  0.000000  0.0  1.000000  0.000000   \n",
       "...        ...       ...       ...   ...       ...  ...       ...       ...   \n",
       "2262  0.000000  0.000000  0.000000   0.0  0.000000  0.0  0.000000  0.000000   \n",
       "2263  0.000000  0.000000  0.525683   0.0  0.473178  0.0  0.540899  0.000000   \n",
       "2264  0.210548  0.000000  0.212106   0.0  0.000000  0.0  0.872981  0.385468   \n",
       "2265  0.000000  0.441988  0.897021   0.0  0.000000  0.0  0.000000  0.000000   \n",
       "2266  0.596783  0.592456  0.000000   0.0  0.541152  0.0  0.000000  0.000000   \n",
       "\n",
       "         time  water  \n",
       "0     0.00000    0.0  \n",
       "1     0.00000    0.0  \n",
       "2     0.00000    0.0  \n",
       "3     0.00000    0.0  \n",
       "4     0.00000    0.0  \n",
       "...       ...    ...  \n",
       "2262  0.00000    0.0  \n",
       "2263  0.45518    0.0  \n",
       "2264  0.00000    0.0  \n",
       "2265  0.00000    0.0  \n",
       "2266  0.00000    0.0  \n",
       "\n",
       "[2267 rows x 10 columns]"
      ]
     },
     "execution_count": 7,
     "metadata": {},
     "output_type": "execute_result"
    }
   ],
   "source": [
    "pd.DataFrame(x_train_vector,columns=vectorizer.get_feature_names())"
   ]
  },
  {
   "cell_type": "code",
   "execution_count": 8,
   "id": "14f633a3",
   "metadata": {
    "execution": {
     "iopub.execute_input": "2021-09-23T07:14:36.064385Z",
     "iopub.status.busy": "2021-09-23T07:14:36.063705Z",
     "iopub.status.idle": "2021-09-23T07:14:36.077834Z",
     "shell.execute_reply": "2021-09-23T07:14:36.077253Z",
     "shell.execute_reply.started": "2021-09-23T06:38:50.326478Z"
    },
    "papermill": {
     "duration": 0.04366,
     "end_time": "2021-09-23T07:14:36.077987",
     "exception": false,
     "start_time": "2021-09-23T07:14:36.034327",
     "status": "completed"
    },
    "tags": []
   },
   "outputs": [],
   "source": [
    "from sklearn.neural_network import MLPRegressor\n"
   ]
  },
  {
   "cell_type": "code",
   "execution_count": 9,
   "id": "bc3b4c66",
   "metadata": {
    "execution": {
     "iopub.execute_input": "2021-09-23T07:14:36.134989Z",
     "iopub.status.busy": "2021-09-23T07:14:36.134289Z",
     "iopub.status.idle": "2021-09-23T07:14:36.136911Z",
     "shell.execute_reply": "2021-09-23T07:14:36.137409Z",
     "shell.execute_reply.started": "2021-09-23T06:38:50.350269Z"
    },
    "papermill": {
     "duration": 0.033112,
     "end_time": "2021-09-23T07:14:36.137624",
     "exception": false,
     "start_time": "2021-09-23T07:14:36.104512",
     "status": "completed"
    },
    "tags": []
   },
   "outputs": [],
   "source": [
    "regr = MLPRegressor(hidden_layer_sizes=(512,1024,512))"
   ]
  },
  {
   "cell_type": "code",
   "execution_count": 10,
   "id": "7ed1c6db",
   "metadata": {
    "execution": {
     "iopub.execute_input": "2021-09-23T07:14:36.193322Z",
     "iopub.status.busy": "2021-09-23T07:14:36.192609Z",
     "iopub.status.idle": "2021-09-23T07:16:22.657390Z",
     "shell.execute_reply": "2021-09-23T07:16:22.658375Z",
     "shell.execute_reply.started": "2021-09-23T06:38:50.357266Z"
    },
    "papermill": {
     "duration": 106.495896,
     "end_time": "2021-09-23T07:16:22.658733",
     "exception": false,
     "start_time": "2021-09-23T07:14:36.162837",
     "status": "completed"
    },
    "tags": []
   },
   "outputs": [
    {
     "data": {
      "text/plain": [
       "MLPRegressor(hidden_layer_sizes=(512, 1024, 512))"
      ]
     },
     "execution_count": 10,
     "metadata": {},
     "output_type": "execute_result"
    }
   ],
   "source": [
    "regr.fit(x_train_vector, y_train)"
   ]
  },
  {
   "cell_type": "markdown",
   "id": "b9548f2c",
   "metadata": {
    "papermill": {
     "duration": 0.025762,
     "end_time": "2021-09-23T07:16:22.731629",
     "exception": false,
     "start_time": "2021-09-23T07:16:22.705867",
     "status": "completed"
    },
    "tags": []
   },
   "source": [
    "## Step: Export model after training"
   ]
  },
  {
   "cell_type": "code",
   "execution_count": 11,
   "id": "d4380891",
   "metadata": {
    "execution": {
     "iopub.execute_input": "2021-09-23T07:16:22.792020Z",
     "iopub.status.busy": "2021-09-23T07:16:22.790913Z",
     "iopub.status.idle": "2021-09-23T07:16:22.834543Z",
     "shell.execute_reply": "2021-09-23T07:16:22.835102Z",
     "shell.execute_reply.started": "2021-09-23T06:39:43.723431Z"
    },
    "papermill": {
     "duration": 0.076772,
     "end_time": "2021-09-23T07:16:22.835278",
     "exception": false,
     "start_time": "2021-09-23T07:16:22.758506",
     "status": "completed"
    },
    "tags": []
   },
   "outputs": [
    {
     "data": {
      "text/plain": [
       "['linearRegressorModel.joblib']"
      ]
     },
     "execution_count": 11,
     "metadata": {},
     "output_type": "execute_result"
    }
   ],
   "source": [
    "import joblib\n",
    "\n",
    "joblibFile = \"linearRegressorModel.joblib\"\n",
    "joblib.dump(regr, joblibFile)"
   ]
  },
  {
   "cell_type": "code",
   "execution_count": 12,
   "id": "f69e3196",
   "metadata": {
    "execution": {
     "iopub.execute_input": "2021-09-23T07:16:22.890584Z",
     "iopub.status.busy": "2021-09-23T07:16:22.889582Z",
     "iopub.status.idle": "2021-09-23T07:16:22.895168Z",
     "shell.execute_reply": "2021-09-23T07:16:22.895805Z",
     "shell.execute_reply.started": "2021-09-23T06:39:43.800431Z"
    },
    "papermill": {
     "duration": 0.03508,
     "end_time": "2021-09-23T07:16:22.895975",
     "exception": false,
     "start_time": "2021-09-23T07:16:22.860895",
     "status": "completed"
    },
    "tags": []
   },
   "outputs": [
    {
     "data": {
      "text/plain": [
       "(2267, 10)"
      ]
     },
     "execution_count": 12,
     "metadata": {},
     "output_type": "execute_result"
    }
   ],
   "source": [
    "x_train_vector.shape"
   ]
  },
  {
   "cell_type": "code",
   "execution_count": 13,
   "id": "eeba59ef",
   "metadata": {
    "execution": {
     "iopub.execute_input": "2021-09-23T07:16:22.953612Z",
     "iopub.status.busy": "2021-09-23T07:16:22.952770Z",
     "iopub.status.idle": "2021-09-23T07:16:22.956048Z",
     "shell.execute_reply": "2021-09-23T07:16:22.956588Z",
     "shell.execute_reply.started": "2021-09-23T06:39:43.810144Z"
    },
    "papermill": {
     "duration": 0.034849,
     "end_time": "2021-09-23T07:16:22.956807",
     "exception": false,
     "start_time": "2021-09-23T07:16:22.921958",
     "status": "completed"
    },
    "tags": []
   },
   "outputs": [
    {
     "data": {
      "text/plain": [
       "(2267,)"
      ]
     },
     "execution_count": 13,
     "metadata": {},
     "output_type": "execute_result"
    }
   ],
   "source": [
    "y_train.shape"
   ]
  },
  {
   "cell_type": "code",
   "execution_count": 14,
   "id": "e02ce5a5",
   "metadata": {
    "execution": {
     "iopub.execute_input": "2021-09-23T07:16:23.014825Z",
     "iopub.status.busy": "2021-09-23T07:16:23.013838Z",
     "iopub.status.idle": "2021-09-23T07:16:23.103797Z",
     "shell.execute_reply": "2021-09-23T07:16:23.104850Z",
     "shell.execute_reply.started": "2021-09-23T06:39:43.823746Z"
    },
    "papermill": {
     "duration": 0.120264,
     "end_time": "2021-09-23T07:16:23.105160",
     "exception": false,
     "start_time": "2021-09-23T07:16:22.984896",
     "status": "completed"
    },
    "tags": []
   },
   "outputs": [
    {
     "data": {
      "text/plain": [
       "0.37918220336871533"
      ]
     },
     "execution_count": 14,
     "metadata": {},
     "output_type": "execute_result"
    }
   ],
   "source": [
    "regr.score(x_train_vector, y_train)"
   ]
  },
  {
   "cell_type": "code",
   "execution_count": 15,
   "id": "a533a03b",
   "metadata": {
    "execution": {
     "iopub.execute_input": "2021-09-23T07:16:23.224702Z",
     "iopub.status.busy": "2021-09-23T07:16:23.223535Z",
     "iopub.status.idle": "2021-09-23T07:16:23.227734Z",
     "shell.execute_reply": "2021-09-23T07:16:23.228674Z",
     "shell.execute_reply.started": "2021-09-23T06:39:43.944313Z"
    },
    "papermill": {
     "duration": 0.06859,
     "end_time": "2021-09-23T07:16:23.228979",
     "exception": false,
     "start_time": "2021-09-23T07:16:23.160389",
     "status": "completed"
    },
    "tags": []
   },
   "outputs": [
    {
     "data": {
      "text/plain": [
       "(567, 10)"
      ]
     },
     "execution_count": 15,
     "metadata": {},
     "output_type": "execute_result"
    }
   ],
   "source": [
    "x_val_vector.shape"
   ]
  },
  {
   "cell_type": "code",
   "execution_count": 16,
   "id": "c23b8285",
   "metadata": {
    "execution": {
     "iopub.execute_input": "2021-09-23T07:16:23.289373Z",
     "iopub.status.busy": "2021-09-23T07:16:23.288409Z",
     "iopub.status.idle": "2021-09-23T07:16:23.293851Z",
     "shell.execute_reply": "2021-09-23T07:16:23.294442Z",
     "shell.execute_reply.started": "2021-09-23T06:39:43.953874Z"
    },
    "papermill": {
     "duration": 0.035999,
     "end_time": "2021-09-23T07:16:23.294611",
     "exception": false,
     "start_time": "2021-09-23T07:16:23.258612",
     "status": "completed"
    },
    "tags": []
   },
   "outputs": [
    {
     "data": {
      "text/plain": [
       "(567,)"
      ]
     },
     "execution_count": 16,
     "metadata": {},
     "output_type": "execute_result"
    }
   ],
   "source": [
    "y_val.shape"
   ]
  },
  {
   "cell_type": "code",
   "execution_count": 17,
   "id": "3851ffa1",
   "metadata": {
    "execution": {
     "iopub.execute_input": "2021-09-23T07:16:23.352707Z",
     "iopub.status.busy": "2021-09-23T07:16:23.351717Z",
     "iopub.status.idle": "2021-09-23T07:16:23.384505Z",
     "shell.execute_reply": "2021-09-23T07:16:23.385573Z",
     "shell.execute_reply.started": "2021-09-23T06:39:43.968713Z"
    },
    "papermill": {
     "duration": 0.064244,
     "end_time": "2021-09-23T07:16:23.385855",
     "exception": false,
     "start_time": "2021-09-23T07:16:23.321611",
     "status": "completed"
    },
    "tags": []
   },
   "outputs": [
    {
     "data": {
      "text/plain": [
       "-0.12229443569090503"
      ]
     },
     "execution_count": 17,
     "metadata": {},
     "output_type": "execute_result"
    }
   ],
   "source": [
    "regr.score(x_val_vector, y_val)"
   ]
  },
  {
   "cell_type": "code",
   "execution_count": 18,
   "id": "ca702628",
   "metadata": {
    "execution": {
     "iopub.execute_input": "2021-09-23T07:16:23.500314Z",
     "iopub.status.busy": "2021-09-23T07:16:23.499012Z",
     "iopub.status.idle": "2021-09-23T07:16:23.581193Z",
     "shell.execute_reply": "2021-09-23T07:16:23.582359Z",
     "shell.execute_reply.started": "2021-09-23T06:39:44.027502Z"
    },
    "papermill": {
     "duration": 0.145488,
     "end_time": "2021-09-23T07:16:23.582698",
     "exception": false,
     "start_time": "2021-09-23T07:16:23.437210",
     "status": "completed"
    },
    "tags": []
   },
   "outputs": [
    {
     "data": {
      "text/plain": [
       "array([-0.55368249, -1.65851093, -1.03231357, ...,  0.03165655,\n",
       "        0.4775884 , -0.16324507])"
      ]
     },
     "execution_count": 18,
     "metadata": {},
     "output_type": "execute_result"
    }
   ],
   "source": [
    "training_preds = regr.predict(x_train_vector)\n",
    "training_preds"
   ]
  },
  {
   "cell_type": "code",
   "execution_count": 19,
   "id": "4ee220fc",
   "metadata": {
    "execution": {
     "iopub.execute_input": "2021-09-23T07:16:23.705301Z",
     "iopub.status.busy": "2021-09-23T07:16:23.704246Z",
     "iopub.status.idle": "2021-09-23T07:16:23.706687Z",
     "shell.execute_reply": "2021-09-23T07:16:23.707247Z",
     "shell.execute_reply.started": "2021-09-23T06:39:44.152697Z"
    },
    "papermill": {
     "duration": 0.067537,
     "end_time": "2021-09-23T07:16:23.707435",
     "exception": false,
     "start_time": "2021-09-23T07:16:23.639898",
     "status": "completed"
    },
    "tags": []
   },
   "outputs": [],
   "source": [
    "import matplotlib.pyplot as plt\n",
    "%matplotlib inline"
   ]
  },
  {
   "cell_type": "code",
   "execution_count": 20,
   "id": "294761b8",
   "metadata": {
    "execution": {
     "iopub.execute_input": "2021-09-23T07:16:23.778769Z",
     "iopub.status.busy": "2021-09-23T07:16:23.777745Z",
     "iopub.status.idle": "2021-09-23T07:16:23.990328Z",
     "shell.execute_reply": "2021-09-23T07:16:23.989688Z",
     "shell.execute_reply.started": "2021-09-23T06:39:44.170792Z"
    },
    "papermill": {
     "duration": 0.254877,
     "end_time": "2021-09-23T07:16:23.990490",
     "exception": false,
     "start_time": "2021-09-23T07:16:23.735613",
     "status": "completed"
    },
    "tags": []
   },
   "outputs": [
    {
     "data": {
      "text/plain": [
       "[<matplotlib.lines.Line2D at 0x7f40224fff50>]"
      ]
     },
     "execution_count": 20,
     "metadata": {},
     "output_type": "execute_result"
    },
    {
     "data": {
      "image/png": "[encoded data removed]",
      "text/plain": [
       "<Figure size 432x288 with 1 Axes>"
      ]
     },
     "metadata": {
      "needs_background": "light"
     },
     "output_type": "display_data"
    }
   ],
   "source": [
    "plt.plot(y_train, training_preds, 'bo')"
   ]
  },
  {
   "cell_type": "code",
   "execution_count": 21,
   "id": "90769542",
   "metadata": {
    "execution": {
     "iopub.execute_input": "2021-09-23T07:16:24.054964Z",
     "iopub.status.busy": "2021-09-23T07:16:24.054059Z",
     "iopub.status.idle": "2021-09-23T07:16:24.102797Z",
     "shell.execute_reply": "2021-09-23T07:16:24.103784Z",
     "shell.execute_reply.started": "2021-09-23T06:39:44.395122Z"
    },
    "papermill": {
     "duration": 0.083882,
     "end_time": "2021-09-23T07:16:24.104097",
     "exception": false,
     "start_time": "2021-09-23T07:16:24.020215",
     "status": "completed"
    },
    "tags": []
   },
   "outputs": [
    {
     "data": {
      "text/plain": [
       "array([-0.27245208,  0.61145299, -0.96768055, -1.26050413, -0.16239376,\n",
       "       -1.45095857, -1.58231237, -1.65851093, -1.58231237, -0.24157224,\n",
       "       -1.58231237, -1.09056718,  0.16882742, -0.74053374, -0.44346799,\n",
       "       -1.52573195, -2.25025724, -1.65851093, -0.60254282, -1.37399809,\n",
       "       -1.77607392, -0.86729779, -1.0747614 , -0.18088963, -0.67900006,\n",
       "       -1.53599572, -1.91721332, -1.58231237, -0.99832749, -0.76889672,\n",
       "       -1.52937936, -0.41559269, -1.07600236, -1.42182231, -1.65851093,\n",
       "       -1.07082272, -1.26759972, -1.58231237, -1.14609254, -1.65851093,\n",
       "       -1.26050413, -1.07600236, -1.66597579, -0.42231946,  0.53116929,\n",
       "        0.06925486, -1.42182231, -1.58231237, -1.58231237, -1.58231237,\n",
       "       -0.59382253, -0.69634084, -1.08330067, -1.00936926, -1.58231237,\n",
       "       -1.22641468, -1.14609254, -1.02978316, -1.58231237, -1.23078159,\n",
       "       -1.03231357, -1.30637156, -1.58231237, -1.03231357, -1.26050413,\n",
       "       -1.0747614 , -1.35750104, -0.46858179, -1.65851093, -1.58231237,\n",
       "        0.15981827, -1.67853395, -0.51784209, -1.60615368, -1.58231237,\n",
       "        0.64248384, -1.58231237, -0.19918687,  0.89035305, -0.7723361 ,\n",
       "       -1.58231237, -1.43767285, -1.58231237, -1.58722742, -0.67900006,\n",
       "       -0.79045936, -1.07600236, -1.58231237, -1.03231357, -0.8890651 ,\n",
       "       -1.26050413, -1.58231237, -1.07600236, -1.14609254, -1.65851093,\n",
       "       -1.58231237, -1.09056718, -1.3097072 , -0.92140161, -1.35750104,\n",
       "       -1.10682043, -1.07600236, -0.56379383, -0.97912031, -0.85947787,\n",
       "       -1.3882727 , -1.58231237, -1.53599572, -1.0747614 , -0.10362781,\n",
       "       -1.254787  , -1.58231237, -1.0747614 , -1.20707782, -0.29258303,\n",
       "       -0.8935036 , -1.0747614 , -3.14383459, -0.24977589, -0.96768055,\n",
       "       -1.0747614 , -1.03231357, -1.53071396, -0.42135269, -1.52086099,\n",
       "       -1.09056718, -1.58231237, -1.40675214, -1.58231237,  0.18493806,\n",
       "       -1.07600236, -0.09667833, -1.58231237, -1.78241816, -0.20350135,\n",
       "        0.00613118, -1.58231237, -1.58231237, -1.58231237, -0.72252841,\n",
       "       -1.58231237, -0.83309307, -0.88451743, -1.00936926, -1.02505393,\n",
       "       -1.14609254, -1.58231237, -1.14609254, -1.58231237, -1.62062812,\n",
       "       -1.24751852, -0.9969486 , -1.29812641, -1.58231237, -0.59178598,\n",
       "       -0.92878895, -0.83202791, -1.11251361, -1.58231237,  0.32878594,\n",
       "       -0.77995393, -1.26050413, -1.07600236, -0.53263784, -1.00394392,\n",
       "       -0.54797223, -1.10046084, -1.65851093, -1.0747614 , -0.83699169,\n",
       "       -1.07600236, -1.17499375, -1.00936926, -1.07600236, -1.29513015,\n",
       "       -0.8701778 ,  0.01972729,  0.53583804, -1.31790559, -1.23078159,\n",
       "       -0.92705485, -1.43018245, -1.65851093, -1.01712362, -1.26050413,\n",
       "       -1.07600236, -0.47927352, -1.51619623, -1.65851093, -0.8935036 ,\n",
       "       -1.05102653, -1.53071396, -1.05468056, -1.58231237, -1.65851093,\n",
       "       -1.65851093, -1.17499375, -0.60254282, -1.65851093, -0.21996437,\n",
       "       -0.72884698, -1.30323856, -1.42182231, -1.08429935, -0.95128119,\n",
       "       -0.52936703, -0.996309  , -1.26050413, -1.20959951, -0.83202791,\n",
       "       -1.58231237, -0.8885962 , -1.29490029, -1.35750104, -1.58231237,\n",
       "        0.06925486, -1.23142829, -1.01732765, -0.35829974, -1.78241816,\n",
       "       -0.8701778 , -1.18874561, -1.56557746, -1.58231237, -0.88451743,\n",
       "       -1.58231237, -1.12134484, -1.29812641, -1.56150617, -1.58231237,\n",
       "       -0.55372173, -1.08507961, -0.09234757, -1.58231237, -1.65851093,\n",
       "       -1.26050413, -1.30637156, -0.55062025, -0.25755544, -1.03231357,\n",
       "       -0.93428221, -1.23078159, -0.9081154 , -1.58231237, -0.54944163,\n",
       "       -1.30323856, -1.00936926, -1.00936926, -0.88085295, -1.10012487,\n",
       "       -1.82554586, -0.57330637, -1.03231357, -1.58231237, -1.08429935,\n",
       "       -1.7772528 , -1.46615109, -2.09695914, -2.50529675, -0.92705485,\n",
       "       -1.58231237, -1.26050413,  0.23611969, -1.65851093, -0.32301345,\n",
       "       -1.65851093, -1.40861857, -0.8935036 , -1.58231237, -1.26573769,\n",
       "       -0.8935036 ,  1.22666713, -1.45704635, -1.00936926, -0.6880328 ,\n",
       "       -1.42182231, -1.03231357, -0.37973527, -1.65851093, -0.95014179,\n",
       "       -0.87331295, -1.29812641, -0.65730154, -0.98569518, -1.26050413,\n",
       "       -0.3348432 , -1.58231237, -0.98125275, -1.37399809, -0.72884698,\n",
       "       -1.03477225,  0.53305834, -0.24112345, -1.42182231, -1.07600236,\n",
       "       -1.42182231,  0.27683067,  0.06566287, -0.0909553 , -1.20861072,\n",
       "       -1.09056718, -0.94260485, -0.11576657, -1.99811165, -0.95128119,\n",
       "       -1.42182231, -0.85914428,  0.13577216, -2.26746276, -1.28789633,\n",
       "       -1.42182231, -1.77607392,  0.35678776, -1.22429301, -1.26050413,\n",
       "       -0.99832749, -0.30688641, -1.58231237, -1.75140933, -0.82008794,\n",
       "        0.24255763, -1.44842   , -1.65851093, -0.69634084, -1.07600236,\n",
       "       -1.58231237, -1.08604793, -1.03231357, -0.99832749, -0.65730154,\n",
       "       -1.42826116, -1.14609254, -1.14609254, -1.65851093, -1.65851093,\n",
       "       -1.58231237, -1.14609254, -1.42182231, -0.9081154 , -1.92697299,\n",
       "       -1.885929  , -1.0747614 , -1.58231237, -1.58231237, -0.66184327,\n",
       "       -1.14609254, -0.4723791 ,  0.38811029, -1.14609254, -0.24597829,\n",
       "       -0.8935036 , -1.41659351, -0.996309  , -1.03710482, -1.58231237,\n",
       "       -0.59939845, -1.65851093, -1.00936926, -0.60473928, -2.4878234 ,\n",
       "       -0.31701363, -1.08429935, -0.04121485, -1.58231237, -1.17499375,\n",
       "       -1.02934094, -1.58231237,  0.2097183 , -1.58231237, -1.30637156,\n",
       "       -1.6011623 , -1.26050413, -0.65943154, -0.96246278, -1.58231237,\n",
       "       -1.58231237, -0.31407851, -1.05020633, -1.14609254, -1.00936926,\n",
       "       -1.58231237,  1.10666782, -2.01889822, -0.95014179, -0.1713565 ,\n",
       "       -0.80874421, -0.42911844, -1.65851093,  0.30079458, -0.87939618,\n",
       "       -1.18642111, -0.5381329 , -1.01806907, -1.58231237, -1.39502712,\n",
       "       -1.29812641, -1.30780408, -1.58231237, -1.07600236, -0.98076477,\n",
       "       -0.8935036 , -1.65851093, -1.58231237,  0.1205687 , -1.07600236,\n",
       "       -1.03578273, -1.89025988, -0.26059598, -1.58231237, -1.65851093,\n",
       "       -1.08610787, -1.58231237, -1.179566  , -0.67926628, -0.16181927,\n",
       "       -1.58231237, -0.95014179, -1.58231237, -1.30637156, -1.14609254,\n",
       "       -1.0747614 ,  0.04765164, -1.07600236, -1.58231237, -0.23740358,\n",
       "       -1.0747614 , -2.48645333, -0.49255707, -0.8935036 , -1.00502902,\n",
       "       -0.16743459, -1.65851093, -1.02934094, -0.78812776, -1.58231237,\n",
       "       -1.61815542, -0.42450037, -0.42450037, -1.20049474, -1.40046513,\n",
       "       -0.81820425, -1.0747614 , -1.26050413, -1.65851093, -1.58231237,\n",
       "       -1.58231237, -1.0747614 , -0.8701778 , -1.10571726, -2.31547698,\n",
       "       -1.03231357, -1.45525533, -1.00936926, -0.8935036 , -0.65730154,\n",
       "       -0.7460719 , -0.78090656, -0.19480058, -1.58231237, -1.00936926,\n",
       "       -1.52573195, -1.58231237, -1.47150136, -1.07600236, -1.58231237,\n",
       "       -1.58231237, -1.77607392, -1.00936926, -0.16809436, -0.24400949,\n",
       "       -0.17645709, -1.58231237, -1.15442703, -0.23008102, -1.30637156,\n",
       "        0.21172859, -0.78843545, -1.26050413, -0.49946198, -0.60473928,\n",
       "       -1.42182231, -0.21996437, -1.30637156, -1.58231237, -0.64186595,\n",
       "       -1.77607392, -1.58231237, -1.58231237, -1.14609254, -0.8701778 ,\n",
       "       -1.1420381 , -1.29812641, -0.32758321, -1.04623854, -1.3356077 ,\n",
       "       -1.65851093, -1.26050413, -1.58231237, -0.8935036 , -1.30637156,\n",
       "       -0.8935036 , -0.8209857 , -1.42182231, -1.78873753, -1.0747614 ,\n",
       "       -1.08429935, -1.80220843, -1.0686899 , -0.85615719,  0.28806308,\n",
       "       -1.00502902, -1.81833361, -0.74642966,  0.29783905, -0.20487585,\n",
       "       -0.43822218, -0.46236426, -0.22484093, -0.92876028,  0.5752169 ,\n",
       "       -0.16743459, -1.58231237, -1.03231357, -0.62727082, -0.13243509,\n",
       "       -1.65851093, -0.36794561, -1.65851093, -0.8935036 , -1.30637156,\n",
       "       -2.11977233, -1.00936926, -0.8935036 , -1.58231237, -0.42450037,\n",
       "       -1.02934094, -1.81833361, -0.64186595, -1.58231237, -1.42182231,\n",
       "       -2.28790205, -1.58231237, -0.92705485,  1.17021903, -0.33319141,\n",
       "       -1.58231237, -1.09056718, -2.01722455, -1.42182231, -1.58231237,\n",
       "       -2.18630575, -1.58231237, -0.08793131, -0.40685032, -1.03231357,\n",
       "       -1.65851093, -1.58231237, -1.37396489, -1.33140608, -1.77235444,\n",
       "       -1.00502902, -0.6880328 , -1.11840838, -0.96768055, -0.60473928,\n",
       "       -1.03231357, -1.50328176])"
      ]
     },
     "execution_count": 21,
     "metadata": {},
     "output_type": "execute_result"
    }
   ],
   "source": [
    "val_preds = regr.predict(x_val_vector)\n",
    "val_preds"
   ]
  },
  {
   "cell_type": "code",
   "execution_count": 22,
   "id": "b76cca3d",
   "metadata": {
    "execution": {
     "iopub.execute_input": "2021-09-23T07:16:24.251227Z",
     "iopub.status.busy": "2021-09-23T07:16:24.250525Z",
     "iopub.status.idle": "2021-09-23T07:16:24.379529Z",
     "shell.execute_reply": "2021-09-23T07:16:24.380050Z",
     "shell.execute_reply.started": "2021-09-23T06:39:44.450085Z"
    },
    "papermill": {
     "duration": 0.21378,
     "end_time": "2021-09-23T07:16:24.380243",
     "exception": false,
     "start_time": "2021-09-23T07:16:24.166463",
     "status": "completed"
    },
    "tags": []
   },
   "outputs": [
    {
     "data": {
      "text/plain": [
       "[<matplotlib.lines.Line2D at 0x7f4022525d90>]"
      ]
     },
     "execution_count": 22,
     "metadata": {},
     "output_type": "execute_result"
    },
    {
     "data": {
      "image/png": "[encoded data removed]",
      "text/plain": [
       "<Figure size 432x288 with 1 Axes>"
      ]
     },
     "metadata": {
      "needs_background": "light"
     },
     "output_type": "display_data"
    }
   ],
   "source": [
    "plt.plot(y_val, val_preds, 'bo')"
   ]
  },
  {
   "cell_type": "code",
   "execution_count": 23,
   "id": "71fbde35",
   "metadata": {
    "execution": {
     "iopub.execute_input": "2021-09-23T07:16:24.477559Z",
     "iopub.status.busy": "2021-09-23T07:16:24.476812Z",
     "iopub.status.idle": "2021-09-23T07:16:24.481550Z",
     "shell.execute_reply": "2021-09-23T07:16:24.480941Z",
     "shell.execute_reply.started": "2021-09-23T06:39:44.63064Z"
    },
    "papermill": {
     "duration": 0.057379,
     "end_time": "2021-09-23T07:16:24.481697",
     "exception": false,
     "start_time": "2021-09-23T07:16:24.424318",
     "status": "completed"
    },
    "tags": []
   },
   "outputs": [
    {
     "data": {
      "text/plain": [
       "0.6651612908497689"
      ]
     },
     "execution_count": 23,
     "metadata": {},
     "output_type": "execute_result"
    }
   ],
   "source": [
    "from sklearn.metrics import mean_squared_error\n",
    "mean_squared_error(y_train,training_preds)"
   ]
  },
  {
   "cell_type": "code",
   "execution_count": 24,
   "id": "625758f7",
   "metadata": {
    "execution": {
     "iopub.execute_input": "2021-09-23T07:16:24.552362Z",
     "iopub.status.busy": "2021-09-23T07:16:24.551701Z",
     "iopub.status.idle": "2021-09-23T07:18:04.005728Z",
     "shell.execute_reply": "2021-09-23T07:18:04.006727Z",
     "shell.execute_reply.started": "2021-09-23T06:39:44.639123Z"
    },
    "papermill": {
     "duration": 99.493015,
     "end_time": "2021-09-23T07:18:04.007056",
     "exception": false,
     "start_time": "2021-09-23T07:16:24.514041",
     "status": "completed"
    },
    "tags": []
   },
   "outputs": [
    {
     "data": {
      "text/plain": [
       "MLPRegressor(hidden_layer_sizes=(512, 1024, 512))"
      ]
     },
     "execution_count": 24,
     "metadata": {},
     "output_type": "execute_result"
    }
   ],
   "source": [
    "regr.fit(x_full, Y_full)"
   ]
  },
  {
   "cell_type": "code",
   "execution_count": 25,
   "id": "539352f4",
   "metadata": {
    "execution": {
     "iopub.execute_input": "2021-09-23T07:18:04.094995Z",
     "iopub.status.busy": "2021-09-23T07:18:04.093821Z",
     "iopub.status.idle": "2021-09-23T07:18:04.105463Z",
     "shell.execute_reply": "2021-09-23T07:18:04.106549Z",
     "shell.execute_reply.started": "2021-09-23T06:41:51.653121Z"
    },
    "papermill": {
     "duration": 0.049978,
     "end_time": "2021-09-23T07:18:04.106845",
     "exception": false,
     "start_time": "2021-09-23T07:18:04.056867",
     "status": "completed"
    },
    "tags": []
   },
   "outputs": [
    {
     "data": {
      "text/plain": [
       "array([-0.96951942, -1.31889947, -0.42994527, -1.52771043, -1.52771043,\n",
       "       -1.52771043, -0.88499079])"
      ]
     },
     "execution_count": 25,
     "metadata": {},
     "output_type": "execute_result"
    }
   ],
   "source": [
    "test_preds = regr.predict(final_test_vector)\n",
    "test_preds"
   ]
  },
  {
   "cell_type": "code",
   "execution_count": 26,
   "id": "f11aa2e1",
   "metadata": {
    "execution": {
     "iopub.execute_input": "2021-09-23T07:18:04.235143Z",
     "iopub.status.busy": "2021-09-23T07:18:04.234108Z",
     "iopub.status.idle": "2021-09-23T07:18:04.249878Z",
     "shell.execute_reply": "2021-09-23T07:18:04.249264Z",
     "shell.execute_reply.started": "2021-09-23T06:41:51.675652Z"
    },
    "papermill": {
     "duration": 0.083516,
     "end_time": "2021-09-23T07:18:04.250017",
     "exception": false,
     "start_time": "2021-09-23T07:18:04.166501",
     "status": "completed"
    },
    "tags": []
   },
   "outputs": [
    {
     "data": {
      "text/html": [
       "<div>\n",
       "<style scoped>\n",
       "    .dataframe tbody tr th:only-of-type {\n",
       "        vertical-align: middle;\n",
       "    }\n",
       "\n",
       "    .dataframe tbody tr th {\n",
       "        vertical-align: top;\n",
       "    }\n",
       "\n",
       "    .dataframe thead th {\n",
       "        text-align: right;\n",
       "    }\n",
       "</style>\n",
       "<table border=\"1\" class=\"dataframe\">\n",
       "  <thead>\n",
       "    <tr style=\"text-align: right;\">\n",
       "      <th></th>\n",
       "      <th>id</th>\n",
       "      <th>target</th>\n",
       "    </tr>\n",
       "  </thead>\n",
       "  <tbody>\n",
       "    <tr>\n",
       "      <th>0</th>\n",
       "      <td>c0f722661</td>\n",
       "      <td>-0.969519</td>\n",
       "    </tr>\n",
       "    <tr>\n",
       "      <th>1</th>\n",
       "      <td>f0953f0a5</td>\n",
       "      <td>-1.318899</td>\n",
       "    </tr>\n",
       "    <tr>\n",
       "      <th>2</th>\n",
       "      <td>0df072751</td>\n",
       "      <td>-0.429945</td>\n",
       "    </tr>\n",
       "    <tr>\n",
       "      <th>3</th>\n",
       "      <td>04caf4e0c</td>\n",
       "      <td>-1.527710</td>\n",
       "    </tr>\n",
       "    <tr>\n",
       "      <th>4</th>\n",
       "      <td>0e63f8bea</td>\n",
       "      <td>-1.527710</td>\n",
       "    </tr>\n",
       "    <tr>\n",
       "      <th>5</th>\n",
       "      <td>12537fe78</td>\n",
       "      <td>-1.527710</td>\n",
       "    </tr>\n",
       "    <tr>\n",
       "      <th>6</th>\n",
       "      <td>965e592c0</td>\n",
       "      <td>-0.884991</td>\n",
       "    </tr>\n",
       "  </tbody>\n",
       "</table>\n",
       "</div>"
      ],
      "text/plain": [
       "          id    target\n",
       "0  c0f722661 -0.969519\n",
       "1  f0953f0a5 -1.318899\n",
       "2  0df072751 -0.429945\n",
       "3  04caf4e0c -1.527710\n",
       "4  0e63f8bea -1.527710\n",
       "5  12537fe78 -1.527710\n",
       "6  965e592c0 -0.884991"
      ]
     },
     "execution_count": 26,
     "metadata": {},
     "output_type": "execute_result"
    }
   ],
   "source": [
    "# create submission file\n",
    "submission = pd.DataFrame({'id' : test_data['id'], 'target' : test_preds})\n",
    "submission.to_csv('/kaggle/working/submission.csv', index=False)\n",
    "submission.head(7)"
   ]
  },
  {
   "cell_type": "code",
   "execution_count": null,
   "id": "11ed7747",
   "metadata": {
    "papermill": {
     "duration": 0.031882,
     "end_time": "2021-09-23T07:18:04.314864",
     "exception": false,
     "start_time": "2021-09-23T07:18:04.282982",
     "status": "completed"
    },
    "tags": []
   },
   "outputs": [],
   "source": []
  }
 ],
 "metadata": {
  "kernelspec": {
   "display_name": "Python 3",
   "language": "python",
   "name": "python3"
  },
  "language_info": {
   "codemirror_mode": {
    "name": "ipython",
    "version": 3
   },
   "file_extension": ".py",
   "mimetype": "text/x-python",
   "name": "python",
   "nbconvert_exporter": "python",
   "pygments_lexer": "ipython3",
   "version": "3.7.10"
  },
  "papermill": {
   "default_parameters": {},
   "duration": 220.666733,
   "end_time": "2021-09-23T07:18:05.159206",
   "environment_variables": {},
   "exception": null,
   "input_path": "__notebook__.ipynb",
   "output_path": "__notebook__.ipynb",
   "parameters": {},
   "start_time": "2021-09-23T07:14:24.492473",
   "version": "2.3.3"
  }
 },
 "nbformat": 4,
 "nbformat_minor": 5
}
